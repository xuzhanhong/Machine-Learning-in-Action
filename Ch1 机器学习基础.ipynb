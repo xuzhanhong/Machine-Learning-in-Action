{
 "cells": [
  {
   "cell_type": "code",
   "execution_count": 1,
   "metadata": {},
   "outputs": [],
   "source": [
    "from numpy import *"
   ]
  },
  {
   "cell_type": "code",
   "execution_count": 2,
   "metadata": {},
   "outputs": [
    {
     "data": {
      "text/plain": [
       "array([[0.26946364, 0.67580845, 0.37337942, 0.76190156],\n",
       "       [0.54631419, 0.38170381, 0.30900433, 0.44616802],\n",
       "       [0.50489556, 0.5633234 , 0.16733299, 0.37132083],\n",
       "       [0.49475201, 0.706911  , 0.0315989 , 0.41151972]])"
      ]
     },
     "execution_count": 2,
     "metadata": {},
     "output_type": "execute_result"
    }
   ],
   "source": [
    "random.rand(4,4)"
   ]
  },
  {
   "cell_type": "code",
   "execution_count": 5,
   "metadata": {},
   "outputs": [
    {
     "data": {
      "text/plain": [
       "matrix([[0.56125927, 0.283599  , 0.67826997, 0.22170868],\n",
       "        [0.58104897, 0.87377342, 0.63992219, 0.61775484],\n",
       "        [0.50208364, 0.65741004, 0.41937272, 0.40929504],\n",
       "        [0.11638288, 0.09390771, 0.57785732, 0.15170901]])"
      ]
     },
     "execution_count": 5,
     "metadata": {},
     "output_type": "execute_result"
    }
   ],
   "source": [
    "randMat = mat(random.rand(4,4))\n",
    "randMat"
   ]
  },
  {
   "cell_type": "code",
   "execution_count": 7,
   "metadata": {},
   "outputs": [
    {
     "data": {
      "text/plain": [
       "matrix([[  4.32176753,   3.25738003,  -5.52685727,  -4.66894096],\n",
       "        [ -6.54253418, -13.552018  ,  21.32575665,   7.21008583],\n",
       "        [ -1.60636376,  -4.26726828,   5.77140705,   4.15309659],\n",
       "        [  6.85301257,  22.14376076, -30.94391932, -10.10879436]])"
      ]
     },
     "execution_count": 7,
     "metadata": {},
     "output_type": "execute_result"
    }
   ],
   "source": [
    "invRandMat = randMat.I\n",
    "invRandMat"
   ]
  },
  {
   "cell_type": "code",
   "execution_count": 10,
   "metadata": {},
   "outputs": [
    {
     "data": {
      "text/plain": [
       "matrix([[ 1.00000000e+00, -8.88178420e-16, -3.55271368e-15,\n",
       "          1.33226763e-15],\n",
       "        [ 0.00000000e+00,  1.00000000e+00,  0.00000000e+00,\n",
       "          0.00000000e+00],\n",
       "        [ 4.44089210e-16, -1.77635684e-15,  1.00000000e+00,\n",
       "          8.88178420e-16],\n",
       "        [ 4.44089210e-16, -8.88178420e-16, -8.88178420e-16,\n",
       "          1.00000000e+00]])"
      ]
     },
     "execution_count": 10,
     "metadata": {},
     "output_type": "execute_result"
    }
   ],
   "source": [
    "myEye = randMat * invRandMat\n",
    "myEye"
   ]
  },
  {
   "cell_type": "code",
   "execution_count": 11,
   "metadata": {},
   "outputs": [
    {
     "data": {
      "text/plain": [
       "matrix([[ 8.88178420e-16, -8.88178420e-16, -3.55271368e-15,\n",
       "          1.33226763e-15],\n",
       "        [ 0.00000000e+00,  0.00000000e+00,  0.00000000e+00,\n",
       "          0.00000000e+00],\n",
       "        [ 4.44089210e-16, -1.77635684e-15,  0.00000000e+00,\n",
       "          8.88178420e-16],\n",
       "        [ 4.44089210e-16, -8.88178420e-16, -8.88178420e-16,\n",
       "          2.22044605e-16]])"
      ]
     },
     "execution_count": 11,
     "metadata": {},
     "output_type": "execute_result"
    }
   ],
   "source": [
    "myEye - eye(4)    # eye(4)创建单位矩阵"
   ]
  },
  {
   "cell_type": "code",
   "execution_count": null,
   "metadata": {},
   "outputs": [],
   "source": []
  }
 ],
 "metadata": {
  "kernelspec": {
   "display_name": "envname",
   "language": "python",
   "name": "envname"
  },
  "language_info": {
   "codemirror_mode": {
    "name": "ipython",
    "version": 3
   },
   "file_extension": ".py",
   "mimetype": "text/x-python",
   "name": "python",
   "nbconvert_exporter": "python",
   "pygments_lexer": "ipython3",
   "version": "3.7.3"
  }
 },
 "nbformat": 4,
 "nbformat_minor": 2
}
