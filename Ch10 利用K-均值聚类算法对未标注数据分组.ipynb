{
 "cells": [
  {
   "cell_type": "markdown",
   "metadata": {},
   "source": [
    "K-均值聚类支持函数"
   ]
  },
  {
   "cell_type": "code",
   "execution_count": 1,
   "metadata": {},
   "outputs": [],
   "source": [
    "import numpy as np"
   ]
  },
  {
   "cell_type": "code",
   "execution_count": 49,
   "metadata": {},
   "outputs": [],
   "source": [
    "def load_dataset(filename):\n",
    "    \"\"\"\n",
    "    加载数据集为指定格式\n",
    "    \"\"\"\n",
    "    data_mat = []\n",
    "    f = open(filename)\n",
    "    for line in f.readlines():\n",
    "        cur_line = line.strip().split('\\t')\n",
    "        flt_line = list(map(float, cur_line))\n",
    "        data_mat.append(flt_line)\n",
    "    return data_mat"
   ]
  },
  {
   "cell_type": "code",
   "execution_count": 83,
   "metadata": {},
   "outputs": [],
   "source": [
    "def dist_eclud(vec_a, vec_b):\n",
    "    \"\"\"\n",
    "    计算两个向量的欧氏距离\n",
    "    \"\"\"\n",
    "    return np.sqrt(np.sum(np.power(vec_a - vec_b, 2)))"
   ]
  },
  {
   "cell_type": "code",
   "execution_count": 74,
   "metadata": {},
   "outputs": [],
   "source": [
    "def rand_cent(dataset, k):\n",
    "    \"\"\"\n",
    "    为给定数据集构建一个包含k个随机质心的集合，随机质心在整个数据集的边界之内\n",
    "    \"\"\"\n",
    "    n = np.shape(dataset)[1]    # 数据集列数\n",
    "    centroids = np.mat(np.zeros((k, n)))    # 构建簇质心\n",
    "    for j in range(n):\n",
    "        min_j = min(dataset[:, j])    # 每一列的最小值\n",
    "        range_j = float(max(dataset[:, j]) - min_j)    # 每一列的最大最小值之差\n",
    "        centroids[:, j] = np.mat(min_j + range_j * np.random.rand(k, 1))\n",
    "    return centroids"
   ]
  },
  {
   "cell_type": "code",
   "execution_count": 76,
   "metadata": {},
   "outputs": [
    {
     "data": {
      "text/plain": [
       "matrix([[ 1.658985,  4.285136],\n",
       "        [-3.453687,  3.424321],\n",
       "        [ 4.838138, -1.151539],\n",
       "        [-5.379713, -3.362104],\n",
       "        [ 0.972564,  2.924086]])"
      ]
     },
     "execution_count": 76,
     "metadata": {},
     "output_type": "execute_result"
    }
   ],
   "source": [
    "data_mat = np.mat(load_dataset(filename = r'.\\datas\\testSet.txt'))\n",
    "data_mat[0:5]"
   ]
  },
  {
   "cell_type": "code",
   "execution_count": 68,
   "metadata": {},
   "outputs": [
    {
     "data": {
      "text/plain": [
       "(matrix([[-5.379713]]), matrix([[4.838138]]))"
      ]
     },
     "execution_count": 68,
     "metadata": {},
     "output_type": "execute_result"
    }
   ],
   "source": [
    "min(data_mat[:, 0]), max(data_mat[:, 0])"
   ]
  },
  {
   "cell_type": "code",
   "execution_count": 69,
   "metadata": {},
   "outputs": [
    {
     "data": {
      "text/plain": [
       "(matrix([[-4.232586]]), matrix([[5.1904]]))"
      ]
     },
     "execution_count": 69,
     "metadata": {},
     "output_type": "execute_result"
    }
   ],
   "source": [
    "min(data_mat[:, 1]), max(data_mat[:, 1])"
   ]
  },
  {
   "cell_type": "code",
   "execution_count": 73,
   "metadata": {},
   "outputs": [
    {
     "data": {
      "text/plain": [
       "matrix([[ 3.2858011 , -4.03549999],\n",
       "        [-1.53311244, -1.71997865]])"
      ]
     },
     "execution_count": 73,
     "metadata": {},
     "output_type": "execute_result"
    }
   ],
   "source": [
    "rand_cent(data_mat, 2)"
   ]
  },
  {
   "cell_type": "code",
   "execution_count": 87,
   "metadata": {},
   "outputs": [
    {
     "data": {
      "text/plain": [
       "5.184632816681332"
      ]
     },
     "execution_count": 87,
     "metadata": {},
     "output_type": "execute_result"
    }
   ],
   "source": [
    "# 计算前两个数据的欧氏距离\n",
    "dist_eclud(data_mat[0], data_mat[1])"
   ]
  },
  {
   "cell_type": "markdown",
   "metadata": {},
   "source": [
    "K-均值聚类算法"
   ]
  },
  {
   "cell_type": "code",
   "execution_count": 102,
   "metadata": {},
   "outputs": [
    {
     "name": "stdout",
     "output_type": "stream",
     "text": [
      "[[-2.67494898 -3.60795764]\n",
      " [-0.59693551  3.1629973 ]]\n",
      "0\n",
      "1\n",
      "[[-2.67494898 -3.60795764]\n",
      " [-0.59693551  3.1629973 ]]\n",
      "0\n",
      "1\n"
     ]
    }
   ],
   "source": [
    "dist_means = dist_eclud\n",
    "create_cent = rand_cent\n",
    "\n",
    "m = np.shape(dataset)[1]    # 数据集列数\n",
    "cluster_assment = np.mat(np.zeros((m, 2)))\n",
    "centroids = create_cent(dataset, k)\n",
    "cluster_changed = True\n",
    "while cluster_changed:\n",
    "    cluster_changed = False\n",
    "    for i in range(m):\n",
    "        # 寻找最近的质心\n",
    "        min_dist = np.inf    # 最小距离初始化为无穷大\n",
    "        min_index = -1\n",
    "        for j in range(k):\n",
    "            dist_ji = dist_means(centroids[j, :], dataset[i, :])    # 计算数据和质心距离\n",
    "            if dist_ji < min_dist:\n",
    "                min_dist = dist_ji\n",
    "                min_index = j\n",
    "        # end for\n",
    "        if cluster_assment[i,0] != min_index:\n",
    "            cluster_changed = True\n",
    "        cluster_assment[i, :] = min_index, min_dist**2\n",
    "    # end for\n",
    "    print(centroids)\n",
    "    # 更新质心位置\n",
    "    for cent in range(k):\n",
    "        print(cent)"
   ]
  },
  {
   "cell_type": "code",
   "execution_count": null,
   "metadata": {},
   "outputs": [],
   "source": []
  }
 ],
 "metadata": {
  "kernelspec": {
   "display_name": "envname",
   "language": "python",
   "name": "envname"
  },
  "language_info": {
   "codemirror_mode": {
    "name": "ipython",
    "version": 3
   },
   "file_extension": ".py",
   "mimetype": "text/x-python",
   "name": "python",
   "nbconvert_exporter": "python",
   "pygments_lexer": "ipython3",
   "version": "3.7.3"
  }
 },
 "nbformat": 4,
 "nbformat_minor": 2
}
